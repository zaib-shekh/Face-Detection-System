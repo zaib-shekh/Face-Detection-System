{
 "cells": [
  {
   "cell_type": "markdown",
   "id": "c16ef03e",
   "metadata": {},
   "source": [
    "## Project 2. Real-time face detection- Cyber Security\n",
    "\n",
    "Problem Statement: Build an application to detect face using opencv (Dataset not required / using webcam)\n",
    "\n"
   ]
  },
  {
   "cell_type": "code",
   "execution_count": 37,
   "id": "0b6045e1",
   "metadata": {},
   "outputs": [],
   "source": [
    "# !pip install opencv-python"
   ]
  },
  {
   "cell_type": "code",
   "execution_count": 2,
   "id": "aa6f3a17",
   "metadata": {},
   "outputs": [],
   "source": [
    "import numpy as np\n",
    "import cv2 as cv"
   ]
  },
  {
   "cell_type": "code",
   "execution_count": null,
   "id": "3b7fb49e",
   "metadata": {},
   "outputs": [],
   "source": []
  },
  {
   "cell_type": "markdown",
   "id": "3d2acd49",
   "metadata": {},
   "source": [
    "## Face Detect"
   ]
  },
  {
   "cell_type": "code",
   "execution_count": 3,
   "id": "2b49e0ce",
   "metadata": {},
   "outputs": [],
   "source": [
    "def detect_face():\n",
    "    # Load the pre-trained Haar Cascade model for face detection\n",
    "    face_cascade = cv.CascadeClassifier(cv.data.haarcascades + 'haarcascade_frontalface_default.xml')\n",
    "    \n",
    "    # Initialize the webcam\n",
    "    webcam = cv.VideoCapture(0)\n",
    "    \n",
    "    if not webcam.isOpened():\n",
    "        print(\"Error: Could not open webcam.\")\n",
    "        return\n",
    "    \n",
    "    while True:\n",
    "        # Read a frame from the webcam\n",
    "        ret, frame = webcam.read()\n",
    "        \n",
    "        if not ret:\n",
    "            print(\"Failed to capture image\")\n",
    "            break\n",
    "        \n",
    "        # Convert the frame to grayscale\n",
    "        gray_frame = cv.cvtColor(frame, cv.COLOR_BGR2GRAY)\n",
    "        \n",
    "        # Detect faces in the grayscale frame\n",
    "        faces = face_cascade.detectMultiScale(gray_frame, scaleFactor=1.1, minNeighbors=5)\n",
    "        \n",
    "        # Draw rectangles around the detected faces\n",
    "        for (x, y, w, h) in faces:\n",
    "            cv.rectangle(frame, (x, y), (x + w, y + h), (0, 255, 0), thickness=5)\n",
    "        \n",
    "        # Display the frame with the detected faces\n",
    "        cv.imshow('Face Detect', frame)\n",
    "        \n",
    "        # Exit the loop when 'q' is pressed\n",
    "        if cv.waitKey(1) & 0xFF == ord('q'):\n",
    "            break\n",
    "    \n",
    "    # Release the webcam and close all OpenCV windows\n",
    "    webcam.release()\n",
    "    cv.destroyAllWindows()"
   ]
  },
  {
   "cell_type": "code",
   "execution_count": 4,
   "id": "b08ae530",
   "metadata": {},
   "outputs": [],
   "source": [
    "detect_face()"
   ]
  },
  {
   "cell_type": "markdown",
   "id": "046d4e87",
   "metadata": {},
   "source": [
    "## Face Detection with Age parameter"
   ]
  },
  {
   "cell_type": "code",
   "execution_count": 5,
   "id": "8297e9d2",
   "metadata": {},
   "outputs": [],
   "source": [
    "def detect_faces_and_age():\n",
    "    # Load the pre-trained Haar Cascade model for face detection\n",
    "    face_cascade = cv.CascadeClassifier(cv.data.haarcascades + 'haarcascade_frontalface_default.xml')\n",
    "    \n",
    "    # Load the pre-trained age detection model\n",
    "    age_net = cv.dnn.readNetFromCaffe(\n",
    "        'age_deploy.prototxt', \n",
    "        'age_net.caffemodel'\n",
    "    )\n",
    "    \n",
    "    # Define age buckets\n",
    "    age_list = ['(0-2)', '(4-6)', '(8-12)', '(15-20)', '(25-32)', '(38-43)', '(48-53)', '(60-100)']\n",
    "    \n",
    "    # Initialize the webcam\n",
    "    webcam = cv.VideoCapture(0)\n",
    "    \n",
    "    if not webcam.isOpened():\n",
    "        print(\"Error: Could not open webcam.\")\n",
    "        return\n",
    "    \n",
    "    while True:\n",
    "        # Read a frame from the webcam\n",
    "        ret, frame = webcam.read()\n",
    "        \n",
    "        if not ret:\n",
    "            print(\"Failed to capture image\")\n",
    "            break\n",
    "        \n",
    "        # Convert the frame to grayscale\n",
    "        gray_frame = cv.cvtColor(frame, cv.COLOR_BGR2GRAY)\n",
    "        \n",
    "        # Detect faces in the grayscale frame\n",
    "        faces = face_cascade.detectMultiScale(gray_frame, scaleFactor=1.1, minNeighbors=5)\n",
    "        \n",
    "        # Process each detected face\n",
    "        for (x, y, w, h) in faces:\n",
    "            # Draw rectangle around the face\n",
    "            cv.rectangle(frame, (x, y), (x + w, y + h), (0, 255, 0), thickness=5)\n",
    "            \n",
    "            # Extract the face ROI\n",
    "            face_roi = frame[y:y+h, x:x+w]\n",
    "            \n",
    "            # Prepare the face ROI for age estimation\n",
    "            blob = cv.dnn.blobFromImage(face_roi, 1.0, (227, 227), (78.4263377603, 87.7689143744, 114.895847746), swapRB=False)\n",
    "            age_net.setInput(blob)\n",
    "            age_preds = age_net.forward()\n",
    "            age = age_list[age_preds[0].argmax()]\n",
    "            \n",
    "            # Display the estimated age\n",
    "            cv.putText(frame, age, (x, y + h + 20), cv.FONT_HERSHEY_SIMPLEX, 0.8, (0, 255, 0), 2, cv.LINE_AA)\n",
    "        \n",
    "        # Display the frame with the detected faces and estimated ages\n",
    "        cv.imshow('Face and Age Detection', frame)\n",
    "        \n",
    "        # Exit the loop when 'q' is pressed\n",
    "        if cv.waitKey(1) & 0xFF == ord('q'):\n",
    "            break\n",
    "    \n",
    "    # Release the webcam and close all OpenCV windows\n",
    "    webcam.release()\n",
    "    cv.destroyAllWindows()"
   ]
  },
  {
   "cell_type": "code",
   "execution_count": 6,
   "id": "9d67de60",
   "metadata": {},
   "outputs": [],
   "source": [
    "detect_faces_and_age()"
   ]
  },
  {
   "cell_type": "code",
   "execution_count": null,
   "id": "cc80ada5",
   "metadata": {},
   "outputs": [],
   "source": []
  }
 ],
 "metadata": {
  "kernelspec": {
   "display_name": "Python 3 (ipykernel)",
   "language": "python",
   "name": "python3"
  },
  "language_info": {
   "codemirror_mode": {
    "name": "ipython",
    "version": 3
   },
   "file_extension": ".py",
   "mimetype": "text/x-python",
   "name": "python",
   "nbconvert_exporter": "python",
   "pygments_lexer": "ipython3",
   "version": "3.11.4"
  }
 },
 "nbformat": 4,
 "nbformat_minor": 5
}
